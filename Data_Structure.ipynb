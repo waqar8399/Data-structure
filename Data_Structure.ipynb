{
  "nbformat": 4,
  "nbformat_minor": 0,
  "metadata": {
    "colab": {
      "provenance": [],
      "collapsed_sections": [
        "JXCzb-1h3Zan"
      ]
    },
    "kernelspec": {
      "name": "python3",
      "display_name": "Python 3"
    },
    "language_info": {
      "name": "python"
    }
  },
  "cells": [
    {
      "cell_type": "markdown",
      "source": [
        "#Data Structure"
      ],
      "metadata": {
        "id": "JXCzb-1h3Zan"
      }
    },
    {
      "cell_type": "markdown",
      "source": [
        "**1. What are data structures, and why are they important?**\n",
        "\n",
        "- Data structure is a way of organizing and storing data in a computer so that it can be used efficiently. Data structures are crucial in python as they help in efficiently organizing , storing, and managing data, making it easier to perform  operations such as searching , sorting and manipulation.\n",
        "\n",
        "\n",
        "\n"
      ],
      "metadata": {
        "id": "T0rZn4BP4B23"
      }
    },
    {
      "cell_type": "markdown",
      "source": [
        "**2. Explain the difference between mutable and immutable data types with examples.**\n",
        "- Data types are categorized as mutable or immutable based on whether their value can be changed after creation.\n",
        "\n",
        ">   **Mutable Data Types:** Mutable data types can be modified after creation, making it flexible but prone to unintended changes. Examples ( list, dictionaries, sets ).\n",
        "\n",
        "> **Immutable Data Types:** Immutable data types can not be modified or changed ensuring data integrity.Examples ( tuple, strings, integers ).\n",
        "\n"
      ],
      "metadata": {
        "id": "ZocXUG2j-TDq"
      }
    },
    {
      "cell_type": "markdown",
      "source": [
        "**3. What are the main differences between lists and tuples in Python?**\n",
        "- Lists are mutable , meaning we can change them after creation. Tuples are immutable , meaning once created , they can not be changed.\n",
        "\n",
        "    >List(Mutable): Created using square brackets- [  ]\n",
        "\n",
        "    >Tuple(Immutable): Created using parantheses- (  )"
      ],
      "metadata": {
        "id": "OoxRSQ0lngnN"
      }
    },
    {
      "cell_type": "markdown",
      "source": [
        "**4. Describe how dictionaries store data.**\n",
        "- A dictionary stores data in key-value pairs, like a real-life dictionary where words(key) have meanings(value).\n",
        "Uses curly braces- { }, and each keys is unique and maps to a value, dictionaries are very fast because it uses a hashtable internally.\n",
        "\n",
        "    **Features:**\n",
        "    >Keys must be unique and immutable.\n",
        "\n",
        "    >Values can be any data types.\n",
        "\n",
        "    >Fast lookup because of hashing.\n",
        "\n",
        "\n"
      ],
      "metadata": {
        "id": "8bnkSRWrdlay"
      }
    },
    {
      "cell_type": "markdown",
      "source": [
        "**5. Why might you use a set instead of a list in Python?**\n",
        "- A set is an unordered collection of unique elements. Unlike lists, sets do not allow duplicate values and provide faster membership testing.\n",
        "\n",
        "  **Advantages:**\n",
        "  > Sets automatically remove duplicate values.\n",
        "\n",
        "  >Sets use hashing, making lookups much faster than lists.\n"
      ],
      "metadata": {
        "id": "ZFv31WYk_MGf"
      }
    },
    {
      "cell_type": "markdown",
      "source": [
        "**6. What is a string in Python, and how is it different from a list?**\n",
        "- A string is a sequence of characters enclosed in quotes. It is immutable meaning it can not be changed after creation.\n",
        "\n",
        "  **Differences:**\n",
        "  >Strings are immutable , but lists are mutable.\n",
        "\n",
        "  >A string only contains characters but a list can hold different types(numbers, string, object).\n",
        "\n",
        "  >Strings are faster for storing and accessing text, while list are not as fast as strings."
      ],
      "metadata": {
        "id": "SrL7301HhOJX"
      }
    },
    {
      "cell_type": "markdown",
      "source": [
        "**7. How do tuples ensure data integrity in python?**\n",
        "- Tuples ensure data integrity because they are immutable meaning their values can not be changed after creation. This prevents accidental modifications ensures consistency in fixed data and makes them safe for use as dictionary keys."
      ],
      "metadata": {
        "id": "gDvbLc4KiLuv"
      }
    },
    {
      "cell_type": "markdown",
      "source": [
        "**8. What is a hash table, and how does it relate to dictionaries in python?**\n",
        "- A hash table is a data structure that stores key-value pairs and finds values quickly using a hash function. When we look up a key, python converts it into a hash to find its location instantly, making searches very fast."
      ],
      "metadata": {
        "id": "eGTuXy0cjC7C"
      }
    },
    {
      "cell_type": "markdown",
      "source": [
        "**9. Can list contain different data types in Python?**\n",
        "- Yes, lists in python can contain different data types. A single list can hold intergers, strings, floats, booleans, other lists and even objects."
      ],
      "metadata": {
        "id": "PnwaQaIpjsdN"
      }
    },
    {
      "cell_type": "markdown",
      "source": [
        "**10. Explain why strings are immutable in Python?**\n",
        "- Strings are immutable in python because they can not changed after creation. If we modify a string python creates a new string instead of changing the original one.\n",
        "\n",
        "  **Example:**"
      ],
      "metadata": {
        "id": "iJXIcqQPkDxA"
      }
    },
    {
      "cell_type": "code",
      "source": [
        "s = 'hello'       # This one is the original string.\n",
        "s = s + ' world'  # it will create a new string.\n",
        "print(s)          # New string will be printed."
      ],
      "metadata": {
        "colab": {
          "base_uri": "https://localhost:8080/"
        },
        "id": "hH4gptp1lATh",
        "outputId": "beffd474-3e64-4115-bcf5-196b4432cb1e"
      },
      "execution_count": null,
      "outputs": [
        {
          "output_type": "stream",
          "name": "stdout",
          "text": [
            "hello world\n"
          ]
        }
      ]
    },
    {
      "cell_type": "markdown",
      "source": [
        "**11. What advantages do dictionaries offer over list for certain tasks?**\n",
        "- Dictionaries are better than lists for fast lookups and key-based access, so we dont need to remember positions like in lists. Dictionaries also prevent duplicate keys and work faster for large data."
      ],
      "metadata": {
        "id": "64EYN9mQkuSJ"
      }
    },
    {
      "cell_type": "markdown",
      "source": [
        "**12. Describe a scenario where using a tuple would be preferable over a list.**\n",
        "- A tuple is better than a list when we need data that should not change. If we are storing the days of the week, a tuple is better because the days never changes."
      ],
      "metadata": {
        "id": "PGx1QLhYl-sD"
      }
    },
    {
      "cell_type": "markdown",
      "source": [
        "**13. How do sets handle duplicate values in Python?**\n",
        "- Set use hash table to store elements, When we add a value, python calculates its hash and places it in a unique position. If a duplicate value is sees that it already exists, so it ignores the new one."
      ],
      "metadata": {
        "id": "lyD4CJPrmqVl"
      }
    },
    {
      "cell_type": "markdown",
      "source": [
        "**14. How does the \"in\" keyword work differently for lists and dictionaries?**\n",
        "- The \"in\" keyword checks if something exists but it works differently for list and dictionaries.\n",
        "\n",
        "  >For list, python checks each item one by one , which takes more time if the list is big.\n",
        "\n",
        "  >For dictionary, it only checks the keys using a hash table, making it much faster."
      ],
      "metadata": {
        "id": "uSGAKuPvnKtM"
      }
    },
    {
      "cell_type": "markdown",
      "source": [
        "**15. Can you modify the elements of tuple? Explain why or why not.**\n",
        "- No ,we can not modify the elements of a tuple because tuples are immutable. This means once a tuple is created, it's elements can not be changed, added, or removed.\n",
        "\n",
        "  *Why cant we modify it?*\n",
        "  > Tuples are designed to be unchangeable so that data remains safe and consistent. This also makes them faster since python can optimize their storage."
      ],
      "metadata": {
        "id": "tP328DJWn0r0"
      }
    },
    {
      "cell_type": "markdown",
      "source": [
        "**16. What is a nested dictionary , and give an example of its use case.**\n",
        "- A nested dictionary is a dictionary inside another dictionary. it helps store structured data in a hierarchical format.\n",
        "\n",
        "  **Use case:**\n",
        "  >A school system can use a nested dictionary to store details of multiple students, where each student has their own dictionary of information.\n",
        "\n",
        "  **Example:**"
      ],
      "metadata": {
        "id": "h78mAdU_ooSa"
      }
    },
    {
      "cell_type": "code",
      "source": [
        "students = {\n",
        "    \"101\" : {\"name\": \"Waqar Ahmad Ansari\", \"Age\" : 23},\n",
        "    \"102\" : {\"name\": \"Sanju Singh\", \"Age\" : 22},\n",
        "    \"103\" : {\"name\": \"Prem Babu Gupta\", \"Age\" : 24}\n",
        "}\n",
        "\n",
        "print(students[\"101\"])"
      ],
      "metadata": {
        "id": "TFKgCcLCplix"
      },
      "execution_count": null,
      "outputs": []
    },
    {
      "cell_type": "markdown",
      "source": [
        "**17. Describe the time complexity of accessing elements in a dictionary.**\n",
        "- Accessing elements in a dictionary by key has an average time complexity of 0(1), meaning it takes constant time, regardless of the dictionary's size.\n",
        "\n",
        "- 0(1) complexity happens because python uses hashing to quickly find keys in a dictionary. When we search for a key, python first calculates the hash of the key, then uses this hash to jump directly to where the value is stored."
      ],
      "metadata": {
        "id": "m91uOdh2q0Ew"
      }
    },
    {
      "cell_type": "markdown",
      "source": [
        "**18. In what situations are list preferred over dictionaries?**\n",
        "- Lists are preffered over dictionaries in situations where ordering, duplicate or sequential access is important.\n",
        "\n",
        "  **Example:**\n",
        "  >A school needs to store student names in the order they registered.\n",
        "\n",
        "  >students = [\"Nikita\", \"Waqar\", \"Nikita\", \"Sanju\", \"Prem\"]\n",
        "\n",
        "  *Two persons with the same name \"Nikita\".*"
      ],
      "metadata": {
        "id": "4rUsRg_6rvc_"
      }
    },
    {
      "cell_type": "markdown",
      "source": [
        "**19. Why are dictionaries considered unordered, and how does that affect data retrieval?**\n",
        "- Dictionaries were considered unordered because they stored key-value pairs were placed based on their hash value, not in the order they were added.\n",
        "\n",
        "  >Retrieving keys or values in the same order they were inserted was not possible.\n",
        "\n",
        "  >Unlike lists, where you access elements by index , dictionary are optimized for fast key-based access 0(1), not position-based retrieval."
      ],
      "metadata": {
        "id": "z9L8Gpjbs735"
      }
    },
    {
      "cell_type": "markdown",
      "source": [
        "**20. Explain the difference between a list and a dictionary in terms of data retrieval.**\n",
        "- **In a list**, data is stored in an ordered squence, and elements are accessed using their position, known as an index. Retrieving an element by index is fast 0(1), but searching for a specific value takes longer 0(n) because python checks each item one by one.\n",
        "\n",
        "  **Example:**\n",
        "\n",
        "  >my_list = [\"Apple\", \"Banana\", \"Cherry\"]\n",
        "\n",
        "  Accessing my_list[1] quickly returns \"Banana\", but if we need to find \"cherry\" python must scan the entire list until it finds the value.\n",
        "\n",
        "\n",
        "- **In a dictionary**, data is stored as key-value pairs, where each key is unique and mapped to a value. Unlike lists, dictionaries allow quick lookups using keys instead of indexes, making them much faster 0(1) for retrieving data.\n",
        "\n",
        "  **Example:**\n",
        "  >my_dict = {\"fruit1\" : \"Apple\", \"fruit2\" : \"Banana\"}\n",
        "\n",
        "  Accessing my_dict[\"fruit2\"] instantly returns \"Banana\" without needing to check every item."
      ],
      "metadata": {
        "id": "luhklbEDsuW8"
      }
    },
    {
      "cell_type": "markdown",
      "source": [
        "\n",
        "\n",
        "---\n",
        "\n"
      ],
      "metadata": {
        "id": "4SLRzBF8v1Px"
      }
    },
    {
      "cell_type": "markdown",
      "source": [
        "\n",
        "\n",
        "---\n",
        "\n"
      ],
      "metadata": {
        "id": "_V9WGL3rv2_r"
      }
    },
    {
      "cell_type": "code",
      "source": [],
      "metadata": {
        "id": "izHGWSs9sr71"
      },
      "execution_count": null,
      "outputs": []
    },
    {
      "cell_type": "markdown",
      "source": [
        "#Practical Questions"
      ],
      "metadata": {
        "id": "zrqsoeNU0llW"
      }
    },
    {
      "cell_type": "markdown",
      "source": [
        "**1. Write a code to create a string with your name and print it.**"
      ],
      "metadata": {
        "id": "bhEwaYuY0ule"
      }
    },
    {
      "cell_type": "code",
      "source": [
        "name = \"Waqar Ahmad Ansari\"\n",
        "print(name)"
      ],
      "metadata": {
        "colab": {
          "base_uri": "https://localhost:8080/"
        },
        "id": "BzXATa9H0_UM",
        "outputId": "ea6072e8-cfa2-4a67-8cfb-d0c651b15bc0"
      },
      "execution_count": null,
      "outputs": [
        {
          "output_type": "stream",
          "name": "stdout",
          "text": [
            "Waqar Ahmad Ansari\n"
          ]
        }
      ]
    },
    {
      "cell_type": "markdown",
      "source": [
        "**2. Write a code to find the length of the string \"Hello World\".**"
      ],
      "metadata": {
        "id": "lZBogsd_1JBM"
      }
    },
    {
      "cell_type": "code",
      "source": [
        "string = \"Hello World\"\n",
        "print(len(string))"
      ],
      "metadata": {
        "colab": {
          "base_uri": "https://localhost:8080/"
        },
        "id": "mEM8a8hw1Mwz",
        "outputId": "1a123075-c417-4060-9888-16f8da2537e4"
      },
      "execution_count": null,
      "outputs": [
        {
          "output_type": "stream",
          "name": "stdout",
          "text": [
            "11\n"
          ]
        }
      ]
    },
    {
      "cell_type": "markdown",
      "source": [
        "**3. Write a code to slice the first 3 characters from the string \"Python Programming\".**"
      ],
      "metadata": {
        "id": "h1QL9kFa1Y4F"
      }
    },
    {
      "cell_type": "code",
      "source": [
        "string = \"Python Programming\"\n",
        "print(string[:3]) # Here i left the starting and put 3 on the end to just slic the 1st 3 characters"
      ],
      "metadata": {
        "colab": {
          "base_uri": "https://localhost:8080/"
        },
        "id": "6xiJW-ua1db5",
        "outputId": "2dc75f8c-56f5-41af-964c-ecd8e3e5befb"
      },
      "execution_count": null,
      "outputs": [
        {
          "output_type": "stream",
          "name": "stdout",
          "text": [
            "Pyt\n"
          ]
        }
      ]
    },
    {
      "cell_type": "markdown",
      "source": [
        "**4. Write a code to convert the string \"hello\" to uppercase.**"
      ],
      "metadata": {
        "id": "bkYJSxe11fbf"
      }
    },
    {
      "cell_type": "code",
      "source": [
        "string = \"hello\"\n",
        "print(string.upper()) #Simply used the .upper() to uppercase the string"
      ],
      "metadata": {
        "colab": {
          "base_uri": "https://localhost:8080/"
        },
        "id": "CW1ZBJuU1i2y",
        "outputId": "e6158176-4a5d-479f-d620-81b9c4123324"
      },
      "execution_count": null,
      "outputs": [
        {
          "output_type": "stream",
          "name": "stdout",
          "text": [
            "HELLO\n"
          ]
        }
      ]
    },
    {
      "cell_type": "markdown",
      "source": [
        "**5. Write a code to replace the word \"apple\" with \"orange\" in the string \"I like apple\".**"
      ],
      "metadata": {
        "id": "zEOZ3wO41jF0"
      }
    },
    {
      "cell_type": "code",
      "source": [
        "word = \"apple\"\n",
        "print(word.replace(\"apple\", \"orange\"))  #Here i used the .replace(the data i want to change, with the data)"
      ],
      "metadata": {
        "colab": {
          "base_uri": "https://localhost:8080/"
        },
        "id": "jloOjpS_1nE7",
        "outputId": "9e67e7c4-ac5b-4916-9ad1-abdb32fe4554"
      },
      "execution_count": null,
      "outputs": [
        {
          "output_type": "stream",
          "name": "stdout",
          "text": [
            "orange\n"
          ]
        }
      ]
    },
    {
      "cell_type": "markdown",
      "source": [
        "**6. Write a code to create a list with numbers 1 to 5 and print it.**"
      ],
      "metadata": {
        "id": "JeGmAQgg1nLm"
      }
    },
    {
      "cell_type": "code",
      "source": [
        "my_list = []\n",
        "\n",
        "for i in range(6):  #Here i ran a for loop to iterate 5 times.\n",
        "  if i == 0:\n",
        "    continue        #i skiped the 0 with the continue keyword.\n",
        "  else:\n",
        "    my_list.append(i)  #Added the range of numbers in the empty list\n",
        "\n",
        "print(my_list)\n"
      ],
      "metadata": {
        "colab": {
          "base_uri": "https://localhost:8080/"
        },
        "id": "DiQur2Yc1sBO",
        "outputId": "69639a8c-71a5-4bbd-dc27-74f5e8212d30"
      },
      "execution_count": 41,
      "outputs": [
        {
          "output_type": "stream",
          "name": "stdout",
          "text": [
            "[1, 2, 3, 4, 5]\n"
          ]
        }
      ]
    },
    {
      "cell_type": "markdown",
      "source": [
        "**7. Write a code to append the number 10 to the list [1, 2, 3, 4].**"
      ],
      "metadata": {
        "id": "7Wr8jGm91sKi"
      }
    },
    {
      "cell_type": "code",
      "source": [
        "my_list = [1, 2, 3, 4]\n",
        "my_list.append(10)\n",
        "\n",
        "print(my_list)"
      ],
      "metadata": {
        "colab": {
          "base_uri": "https://localhost:8080/"
        },
        "id": "EGB6GoUp1vUy",
        "outputId": "85ec33f4-0b50-45b6-92b7-a5ec1a2772be"
      },
      "execution_count": null,
      "outputs": [
        {
          "output_type": "stream",
          "name": "stdout",
          "text": [
            "[1, 2, 3, 4, 10]\n"
          ]
        }
      ]
    },
    {
      "cell_type": "markdown",
      "source": [
        "**8. Write a code to remove the number 3 from the list [1, 2, 3, 4, 5].**"
      ],
      "metadata": {
        "id": "syctj-w11van"
      }
    },
    {
      "cell_type": "code",
      "source": [
        "my_list = [1, 2, 3, 4, 5]\n",
        "my_list.remove(3)\n",
        "\n",
        "print(my_list)"
      ],
      "metadata": {
        "colab": {
          "base_uri": "https://localhost:8080/"
        },
        "id": "HetKtlEX1zQz",
        "outputId": "c7724628-ec92-40f1-a93a-bad5fc20c4d8"
      },
      "execution_count": 40,
      "outputs": [
        {
          "output_type": "stream",
          "name": "stdout",
          "text": [
            "[1, 2, 4, 5]\n"
          ]
        }
      ]
    },
    {
      "cell_type": "markdown",
      "source": [
        "**9. Write a code to access the second element in the list ['a', 'b', 'c', 'd'].**"
      ],
      "metadata": {
        "id": "eR2kE3v11zck"
      }
    },
    {
      "cell_type": "code",
      "source": [
        "my_list = [\"a\", \"b\", \"c\", \"d\"]\n",
        "print(my_list[1])"
      ],
      "metadata": {
        "colab": {
          "base_uri": "https://localhost:8080/"
        },
        "id": "53r5wKrN13sY",
        "outputId": "1fbf435d-33aa-4def-a312-6f1ef5d321a8"
      },
      "execution_count": 39,
      "outputs": [
        {
          "output_type": "stream",
          "name": "stdout",
          "text": [
            "b\n"
          ]
        }
      ]
    },
    {
      "cell_type": "markdown",
      "source": [
        "**10. Write a code to reverse the list [10, 20, 30, 40, 50].**"
      ],
      "metadata": {
        "id": "qEo5Hdkp13x9"
      }
    },
    {
      "cell_type": "code",
      "source": [
        "list_provided = [10, 20, 30, 40, 50]\n",
        "\n",
        "reversed_list = list_provided[::-1]\n",
        "print(reversed_list)\n",
        "\n"
      ],
      "metadata": {
        "colab": {
          "base_uri": "https://localhost:8080/"
        },
        "id": "v7u3v0IM16mr",
        "outputId": "289b61d6-959f-4150-d2ba-47093b074de0"
      },
      "execution_count": 37,
      "outputs": [
        {
          "output_type": "stream",
          "name": "stdout",
          "text": [
            "[50, 40, 30, 20, 10]\n"
          ]
        }
      ]
    },
    {
      "cell_type": "markdown",
      "source": [
        "**11. Write a code to create a tuple with the elements 100, 200, 300 and print it.**"
      ],
      "metadata": {
        "id": "9VYjQLUO16vY"
      }
    },
    {
      "cell_type": "code",
      "source": [
        "#creating a tuple\n",
        "my_tuple = (100, 200, 300)\n",
        "\n",
        "#printing the tuple\n",
        "print(my_tuple)"
      ],
      "metadata": {
        "colab": {
          "base_uri": "https://localhost:8080/"
        },
        "id": "6tUcsWO-1_Gc",
        "outputId": "d1b801e9-f304-48c3-a331-d562ad9448a9"
      },
      "execution_count": 35,
      "outputs": [
        {
          "output_type": "stream",
          "name": "stdout",
          "text": [
            "(100, 200, 300)\n"
          ]
        }
      ]
    },
    {
      "cell_type": "markdown",
      "source": [
        "**12. Write a code to access the second-to-last element of the tuple ('red', 'green', 'blue', 'yellow').**"
      ],
      "metadata": {
        "id": "zl6kncT-1_Pg"
      }
    },
    {
      "cell_type": "code",
      "source": [
        "my_tuple = (\"red\", \"green\", \"blue\", \"yellow\")\n",
        "my_tuple[1:]"
      ],
      "metadata": {
        "colab": {
          "base_uri": "https://localhost:8080/"
        },
        "id": "09j3mMCP2CQM",
        "outputId": "728a0002-db6b-49cc-8600-c316924f7499"
      },
      "execution_count": 34,
      "outputs": [
        {
          "output_type": "execute_result",
          "data": {
            "text/plain": [
              "('green', 'blue', 'yellow')"
            ]
          },
          "metadata": {},
          "execution_count": 34
        }
      ]
    },
    {
      "cell_type": "markdown",
      "source": [
        "**13. Write a code to find the minimum number in the tuple (10, 20, 5, 15).**"
      ],
      "metadata": {
        "id": "r2MvGfp12CaG"
      }
    },
    {
      "cell_type": "code",
      "source": [
        "my_tuple = (10, 20, 5, 15)\n",
        "\n",
        "smallest_number = my_tuple[0]  # here i assumed the 1st letter is the smallest\n",
        "\n",
        "for num in my_tuple:           # Here i looked through the tuple\n",
        "  if num < smallest_number: # Here im comparing the interation number to the variable samallest_number to find if the num is less than the saved smallest_number.\n",
        "    smallest_number = num   # if you num is less than the smallest_number then i simply assinging the smallest_number = num\n",
        "\n",
        "print(\"Smallest Number: \", smallest_number)"
      ],
      "metadata": {
        "colab": {
          "base_uri": "https://localhost:8080/"
        },
        "id": "eJNU2DkF2GUA",
        "outputId": "ab0a5d81-2c01-4acf-9faa-754be859cb82"
      },
      "execution_count": 32,
      "outputs": [
        {
          "output_type": "stream",
          "name": "stdout",
          "text": [
            "Smallest Number:  5\n"
          ]
        }
      ]
    },
    {
      "cell_type": "markdown",
      "source": [
        "**14. Write a code to find the index of the element \"cat\" in the tuple ('dog', 'cat', 'rabbit').**"
      ],
      "metadata": {
        "id": "CUpAlmYm2Gce"
      }
    },
    {
      "cell_type": "code",
      "source": [
        "my_tuple = ('dog', 'cat', 'rabbit')\n",
        "my_tuple.index(\"cat\")  # Here i simply used the .index() to find the index number the Cat.\n"
      ],
      "metadata": {
        "colab": {
          "base_uri": "https://localhost:8080/"
        },
        "id": "NbUWg1ar2JW2",
        "outputId": "0866d35b-95d7-4fb3-8e7d-b3254c8fdf24"
      },
      "execution_count": null,
      "outputs": [
        {
          "output_type": "execute_result",
          "data": {
            "text/plain": [
              "1"
            ]
          },
          "metadata": {},
          "execution_count": 57
        }
      ]
    },
    {
      "cell_type": "markdown",
      "source": [
        "**15. Write a code to create a tuple containing three different fruits and check if \"kiwi\" is in it.**"
      ],
      "metadata": {
        "id": "hSeCApit2Jcg"
      }
    },
    {
      "cell_type": "code",
      "source": [
        "fruits = (\"Apple\", \"Banana\", \"Kiwi\")\n",
        "\n",
        "if \"Kiwi\" in fruits:            #Just used membership operator to find the whether it has to \"Kiwi\" in the tuple or not.\n",
        "  print(\"Kiwi is available\")\n",
        "else:\n",
        "  print(\"Dont have kiwi\")\n"
      ],
      "metadata": {
        "colab": {
          "base_uri": "https://localhost:8080/"
        },
        "id": "AkJSpHL-2Mc3",
        "outputId": "ad98603e-1c76-4f23-e80d-e3306bd56b70"
      },
      "execution_count": null,
      "outputs": [
        {
          "output_type": "stream",
          "name": "stdout",
          "text": [
            "Kiwi is available\n"
          ]
        }
      ]
    },
    {
      "cell_type": "markdown",
      "source": [
        "**16. Write a code to create a set with the elements 'a', 'b', 'c' and print it.**"
      ],
      "metadata": {
        "id": "VjA73Eot2Min"
      }
    },
    {
      "cell_type": "code",
      "source": [
        "set1 = {\"a\", \"b\", \"c\"}\n",
        "print(set1)\n",
        "\n",
        "# it is printing the elements in onordered way because of the nature of sets.\n",
        "# So i have to use sorted() to print it Alphabetically but it will convert the set into a list."
      ],
      "metadata": {
        "colab": {
          "base_uri": "https://localhost:8080/"
        },
        "id": "SXIebEgg2QN0",
        "outputId": "ea43dcd5-58f9-48be-d344-275f95b3372f"
      },
      "execution_count": 31,
      "outputs": [
        {
          "output_type": "stream",
          "name": "stdout",
          "text": [
            "{'b', 'c', 'a'}\n"
          ]
        }
      ]
    },
    {
      "cell_type": "markdown",
      "source": [
        "**17. Write a code to clear all elements from the set {1, 2, 3, 4, 5}.**"
      ],
      "metadata": {
        "id": "8oIG8lAH2QVp"
      }
    },
    {
      "cell_type": "code",
      "source": [
        "set1 = {1, 2, 3, 4, 5}\n",
        "\n",
        "#here im using clear() to empty the set.\n",
        "set1.clear()\n",
        "\n",
        "print(set1)"
      ],
      "metadata": {
        "colab": {
          "base_uri": "https://localhost:8080/"
        },
        "id": "E-C9TWAa2TOQ",
        "outputId": "45f91d43-cf2c-4443-a902-13682e99fa37"
      },
      "execution_count": 17,
      "outputs": [
        {
          "output_type": "stream",
          "name": "stdout",
          "text": [
            "set()\n"
          ]
        }
      ]
    },
    {
      "cell_type": "markdown",
      "source": [
        "**18. Write a code to remove the element 4 from the set {1, 2, 3, 4}.**"
      ],
      "metadata": {
        "id": "ZTay2Jco2TWv"
      }
    },
    {
      "cell_type": "code",
      "source": [
        "set1 = {1, 2, 3, 4}\n",
        "\n",
        "set1.remove(4)\n",
        "print(set1)"
      ],
      "metadata": {
        "colab": {
          "base_uri": "https://localhost:8080/"
        },
        "id": "dbot-8Kg2Wsd",
        "outputId": "43e70ed5-99b1-43c3-a480-ece18fb78eaf"
      },
      "execution_count": 16,
      "outputs": [
        {
          "output_type": "stream",
          "name": "stdout",
          "text": [
            "{1, 2, 3}\n"
          ]
        }
      ]
    },
    {
      "cell_type": "markdown",
      "source": [
        "**19. Write a code to find the union of two sets {1, 2, 3} and {3, 4, 5}.**"
      ],
      "metadata": {
        "id": "HaXItgpI2WzP"
      }
    },
    {
      "cell_type": "code",
      "source": [
        "# we can do this using union() and using |\n",
        "\n",
        "set1 = {1, 2, 3}\n",
        "set2 = {3, 4, 5}\n",
        "\n",
        "combined_set = set1 | set2  #This combines the set1 and set2 removing 3 because sets cannot have duplicates\n",
        "print(combined_set )"
      ],
      "metadata": {
        "colab": {
          "base_uri": "https://localhost:8080/"
        },
        "id": "8vEh-rgZ2Z6Y",
        "outputId": "42d3d0a8-cf0e-44b9-8e04-fa45c3da3eb9"
      },
      "execution_count": null,
      "outputs": [
        {
          "output_type": "stream",
          "name": "stdout",
          "text": [
            "{1, 2, 3, 4, 5}\n"
          ]
        }
      ]
    },
    {
      "cell_type": "markdown",
      "source": [
        "**20. Write a code to find the intersection of two sets {1, 2, 3} and {2, 3, 4}.**"
      ],
      "metadata": {
        "id": "K2KtpNC92Z_o"
      }
    },
    {
      "cell_type": "code",
      "source": [
        "set1 = {1, 2, 3}\n",
        "set2 = {2, 3, 4}\n",
        "\n",
        "intersection_set = set1 & set2  # This will only contain the values which both sets have.\n",
        "print(intersection_set)"
      ],
      "metadata": {
        "colab": {
          "base_uri": "https://localhost:8080/"
        },
        "id": "OAYEbW6n2dOl",
        "outputId": "e3c5acd5-b89d-4106-d168-6378f60442fa"
      },
      "execution_count": null,
      "outputs": [
        {
          "output_type": "stream",
          "name": "stdout",
          "text": [
            "{2, 3}\n"
          ]
        }
      ]
    },
    {
      "cell_type": "markdown",
      "source": [
        "**21. Write a code to create a dictionary with the keys \"name\", \"age\", and \"city\", and print it.**"
      ],
      "metadata": {
        "id": "johp2sIz2dXm"
      }
    },
    {
      "cell_type": "code",
      "source": [
        "dict1 = {\n",
        "    \"name\" : \"waqar ahmad ansari\",\n",
        "    \"age\" : 23,\n",
        "    \"city\" : \"Dhekiajuli, Assam\"\n",
        "}\n",
        "\n",
        "print(dict1)"
      ],
      "metadata": {
        "colab": {
          "base_uri": "https://localhost:8080/"
        },
        "id": "YVCT6ufL2h_D",
        "outputId": "4b585844-d5b1-447d-e8a2-7d247e72db3c"
      },
      "execution_count": 15,
      "outputs": [
        {
          "output_type": "stream",
          "name": "stdout",
          "text": [
            "{'name': 'waqar ahmad ansari', 'age': 23, 'city': 'Dhekiajuli, Assam'}\n"
          ]
        }
      ]
    },
    {
      "cell_type": "markdown",
      "source": [
        "**22. Write a code to add a new key-value pair \"country\": \"USA\" to the dictionary {'name': 'John', 'age': 25}.**"
      ],
      "metadata": {
        "id": "IHYm32oX2iJk"
      }
    },
    {
      "cell_type": "code",
      "source": [
        "my_dictionary =  {\n",
        "    'name': 'John', 'age': 25, 'country' : \"USA\"\n",
        "    }\n",
        "\n",
        "print(my_dictionary)"
      ],
      "metadata": {
        "colab": {
          "base_uri": "https://localhost:8080/"
        },
        "id": "sjgGOIGz2lqY",
        "outputId": "99c4e538-cd50-4d4d-f974-485f7f55aa1e"
      },
      "execution_count": 14,
      "outputs": [
        {
          "output_type": "stream",
          "name": "stdout",
          "text": [
            "{'name': 'John', 'age': 25, 'country': 'USA'}\n"
          ]
        }
      ]
    },
    {
      "cell_type": "markdown",
      "source": [
        "**23. Write a code to access the value associated with the key \"name\" in the dictionary {'name': 'Alice', 'age': 30}.**"
      ],
      "metadata": {
        "id": "b2ui2Tce2l_e"
      }
    },
    {
      "cell_type": "code",
      "source": [
        "my_dictionary = {'name': 'Alice', 'age': 30}\n",
        "\n",
        "print(my_dictionary[\"name\"]) # Here i simply target the key to get its value.\n",
        "\n"
      ],
      "metadata": {
        "colab": {
          "base_uri": "https://localhost:8080/"
        },
        "id": "xybVv1yE2psA",
        "outputId": "66714704-93fe-4b79-bf56-e70d3ad56d09"
      },
      "execution_count": 13,
      "outputs": [
        {
          "output_type": "stream",
          "name": "stdout",
          "text": [
            "Alice\n"
          ]
        }
      ]
    },
    {
      "cell_type": "markdown",
      "source": [
        "**24. Write a code to remove the key \"age\" from the dictionary {'name': 'Bob', 'age': 22, 'city': 'New York'}.**"
      ],
      "metadata": {
        "id": "zR_IFBvO2py8"
      }
    },
    {
      "cell_type": "code",
      "source": [
        "my_dictionary = {'name': 'Bob', 'age': 22, 'city': 'New York'}\n",
        "\n",
        "my_dictionary.pop(\"age\")  # Here i removed the age details using pop function.\n",
        "print(my_dictionary)"
      ],
      "metadata": {
        "colab": {
          "base_uri": "https://localhost:8080/"
        },
        "id": "KTt4xEDd2tGF",
        "outputId": "5d5d5e9a-02c3-4c52-978f-88bf1a1b1076"
      },
      "execution_count": 12,
      "outputs": [
        {
          "output_type": "stream",
          "name": "stdout",
          "text": [
            "{'name': 'Bob', 'city': 'New York'}\n"
          ]
        }
      ]
    },
    {
      "cell_type": "markdown",
      "source": [
        "**25. Write a code to check if the key \"city\" exists in the dictionary {'name': 'Alice', 'city': 'Paris'}.**"
      ],
      "metadata": {
        "id": "vxrC2SFk2tLz"
      }
    },
    {
      "cell_type": "code",
      "source": [
        "my_dictionary = {'name': 'Alice', 'city': 'Paris'}\n",
        "\n",
        "if \"city\" in my_dictionary:\n",
        "  print(\"Yes the dictionary have it\")\n",
        "else:\n",
        "  print(\"Dont have it\")"
      ],
      "metadata": {
        "colab": {
          "base_uri": "https://localhost:8080/"
        },
        "id": "EipS9Rtm2xyL",
        "outputId": "3776d030-9da5-4d85-f842-27cf6aabb624"
      },
      "execution_count": 11,
      "outputs": [
        {
          "output_type": "stream",
          "name": "stdout",
          "text": [
            "Yes the dictionary have it\n"
          ]
        }
      ]
    },
    {
      "cell_type": "markdown",
      "source": [
        "**26. Write a code to create a list, a tuple, and a dictionary, and print them all.**"
      ],
      "metadata": {
        "id": "x_AAgwYB2x53"
      }
    },
    {
      "cell_type": "code",
      "source": [
        "my_list = [\"Waqar\", \"Prem\", \"Sanju\"]\n",
        "my_tuple = (\"Monday\", \"Tuesday\", \"Wednesday\")\n",
        "my_dict = {\n",
        "\n",
        "    \"List\" : \"List are mutable\",\n",
        "    \"Tuple\" : \"Tuples are immutable\",\n",
        "    \"Dictionary\" : \"Dictionaries are mutable\"\n",
        "\n",
        "    }\n",
        "\n",
        "\n",
        "print(f\"List: {my_list} \\nTuple: {my_tuple} \\nDictionary: {my_dict}\")\n",
        "\n"
      ],
      "metadata": {
        "id": "pCFLtlaY21Ph",
        "colab": {
          "base_uri": "https://localhost:8080/"
        },
        "outputId": "1674e6e0-591d-4394-8f5c-ec7361d45b14"
      },
      "execution_count": 53,
      "outputs": [
        {
          "output_type": "stream",
          "name": "stdout",
          "text": [
            "List: ['Waqar', 'Prem', 'Sanju'] \n",
            "Tuple: ('Monday', 'Tuesday', 'Wednesday') \n",
            "Dictionary: {'List': 'List are mutable', 'Tuple': 'Tuples are immutable', 'Dictionary': 'Dictionaries are mutable'}\n"
          ]
        }
      ]
    },
    {
      "cell_type": "markdown",
      "source": [
        "**27. Write a code to create a list of 5 random numbers between 1 and 100, sort it in ascending order, and print the\n",
        "result.(replaced)**"
      ],
      "metadata": {
        "id": "9kMOBEYW21WF"
      }
    },
    {
      "cell_type": "code",
      "source": [
        "random_numbers = [23, 45, 65, 76, 21]\n",
        "random_numbers.sort()\n",
        "\n",
        "print(random_numbers)"
      ],
      "metadata": {
        "id": "2I1i-4lN3JZJ",
        "colab": {
          "base_uri": "https://localhost:8080/"
        },
        "outputId": "e5c7f305-c4c1-4015-cf02-f4add7423b5c"
      },
      "execution_count": 47,
      "outputs": [
        {
          "output_type": "stream",
          "name": "stdout",
          "text": [
            "[21, 23, 45, 65, 76]\n"
          ]
        }
      ]
    },
    {
      "cell_type": "markdown",
      "source": [
        "**28. Write a code to create a list with strings and print the element at the third index.**"
      ],
      "metadata": {
        "id": "ZvYGx6no3Jj7"
      }
    },
    {
      "cell_type": "code",
      "source": [
        "my_str = \"Waqar\"\n",
        "print(my_str[2])"
      ],
      "metadata": {
        "id": "T6dXJEgn3Ole",
        "colab": {
          "base_uri": "https://localhost:8080/"
        },
        "outputId": "93fc0a98-3845-4542-9d37-60977ed459f6"
      },
      "execution_count": 48,
      "outputs": [
        {
          "output_type": "stream",
          "name": "stdout",
          "text": [
            "q\n"
          ]
        }
      ]
    },
    {
      "cell_type": "markdown",
      "source": [
        "**29. Write a code to combine two dictionaries into one and print the result.**"
      ],
      "metadata": {
        "id": "aGv-ISkWcEmi"
      }
    },
    {
      "cell_type": "code",
      "source": [
        "dict1 = {\"name\": \"waqar\", \"age\": 23}\n",
        "dict2 = {\"Nationality\": \"Indian\", \"Address\": \"Assam\"}\n",
        "\n",
        "combined_dict = dict1 | dict2\n",
        "print(combined_dict)"
      ],
      "metadata": {
        "colab": {
          "base_uri": "https://localhost:8080/"
        },
        "id": "NK1SMFb2cJD5",
        "outputId": "fb9bd16e-54b2-4c20-e18a-ab8ca18da042"
      },
      "execution_count": 50,
      "outputs": [
        {
          "output_type": "stream",
          "name": "stdout",
          "text": [
            "{'name': 'waqar', 'age': 23, 'Nationality': 'Indian', 'Address': 'Assam'}\n"
          ]
        }
      ]
    },
    {
      "cell_type": "markdown",
      "source": [
        "**30. Write a code to convert a list of strings into a set.**"
      ],
      "metadata": {
        "id": "LevqFvHIdBsC"
      }
    },
    {
      "cell_type": "code",
      "source": [
        "my_list = [\"Waqar\", \"Ahmad\", \"Ansari\"]\n",
        "\n",
        "my_set = set(my_list)\n",
        "\n",
        "print(my_set)"
      ],
      "metadata": {
        "colab": {
          "base_uri": "https://localhost:8080/"
        },
        "id": "gIQ1IKFAdEvj",
        "outputId": "8975a73d-f772-4fd8-c155-2f0a251c105d"
      },
      "execution_count": 52,
      "outputs": [
        {
          "output_type": "stream",
          "name": "stdout",
          "text": [
            "{'Ahmad', 'Ansari', 'Waqar'}\n"
          ]
        }
      ]
    },
    {
      "cell_type": "markdown",
      "source": [
        "\n",
        "\n",
        "---\n",
        "\n"
      ],
      "metadata": {
        "id": "WRgztfD6ebk7"
      }
    },
    {
      "cell_type": "markdown",
      "source": [
        "\n",
        "\n",
        "---\n",
        "\n"
      ],
      "metadata": {
        "id": "6hxdpDadeeZG"
      }
    }
  ]
}